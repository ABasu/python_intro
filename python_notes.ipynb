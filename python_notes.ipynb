{
 "cells": [
  {
   "cell_type": "markdown",
   "metadata": {},
   "source": [
    "<a id=\"installpython\"></a>\n",
    "## Install Python\n",
    "\n",
    "We will use Python 3.x for this course. Download and install Python using [the Anaconda distribution](https://conda.io/docs/user-guide/install/index.html)"
   ]
  },
  {
   "cell_type": "markdown",
   "metadata": {},
   "source": [
    "## A Few Python Resources:\n",
    "\n",
    "#### Websites:\n",
    "* [The official Python documentation](http://docs.python.org/): The ultimate authority on all things Python. Has a [tutorial](http://docs.python.org/tutorial/), and some nice [beginner's guides](http://www.python.org/about/gettingstarted/). Can be terse and cryptic and times, but is always thorough and exhaustive. Bookmark-worthy!\n",
    "* [Dive into Python](https://diveintopython3.problemsolving.io/) is an excellent online book on Python.\n",
    "* [Learn Python the Hard Way](http://learnpythonthehardway.org/book/) is another good online book.\n",
    "\n",
    "#### Books:\n",
    "\n",
    "If you'd like to buy a paper book consider the following (in addition to print editions of the above ones):\n",
    "\n",
    "* [Think Python](http://www.amazon.com/Think-Python-Allen-B-Downey/dp/144933072X/ref=sr_1_1?s=books&ie=UTF8&qid=1349325141&sr=1-1&keywords=think+python): Nicely organized introduction, also available as [PDF](http://www.greenteapress.com/thinkpython/thinkpython.pdf)\n",
    "* [Python Programming for the Absolute Beginner](http://www.amazon.com/Python-Programming-Absolute-Beginner-Edition/dp/1435455002/ref=pd_sim_b_12)\n",
    "* [Python Programming: An Introduction to Computer Science](http://www.amazon.com/Python-Programming-Introduction-Computer-Science/dp/1590282418/ref=sr_1_15?s=books&ie=UTF8&qid=1349324835&sr=1-15&keywords=python+programming): Covers a lot of ground, but a good first book as well.\n",
    "\n",
    "Not introductory tutorials, but here are two great reference books on Python to have around:\n",
    "\n",
    "* [Python Essential Reference](http://www.amazon.com/Python-Essential-Reference-4th-Edition/dp/0672329786/ref=pd_bxgy_b_img_z): I prefer this one.\n",
    "* [Python in a Nutshell](http://www.amazon.com/Python-Nutshell-Second-Alex-Martelli/dp/0596100469/ref=sr_1_1?s=books&ie=UTF8&qid=1349325356&sr=1-1&keywords=python+nutshell)"
   ]
  },
  {
   "cell_type": "markdown",
   "metadata": {},
   "source": [
    "## Navigating the terminal - files and folders\n",
    "\n",
    "I'll expect you to familiarize yourself with basic navigation using the command line. Commands you should have a familiarity with include `pwd`, `cd`, `ls`, and `chmod`. Under Windows, Anaconda should start a Unix like shell."
   ]
  },
  {
   "cell_type": "markdown",
   "metadata": {},
   "source": [
    "## Running Python\n",
    "\n",
    "We will use three major ways (with some variation) to run Python.\n",
    "\n",
    "1. In the terminal, type `python` to start an interactive Python interpreter. You can type in python commands and hit enter to execute. Type `exit()` to get back to the shell.\n",
    "2. Write a Python program using any plaintext editor (or IDE, like `Spyder`) and save it with a `.py` extension -- say `test.py`. Now from the commandline, run the program by typing `python test.py`. This will run the text file through the python interpreter. In Unix environments, you can do the following to mark the program as an executable and to have it automatically run through Python: Put the following on the first line of your program. `#!/usr/bin/env python3` and then after saving the program change its permissions to executable by typing `chmod 755 test.py`. Now just typing `./test.py` should run the program.\n",
    "3. Start an interactive Python notebook by typing `jupyter notebook`. Type in python commands in the text box and hit shift-enter to execute."
   ]
  },
  {
   "cell_type": "markdown",
   "metadata": {},
   "source": [
    "<a id=\"whypython\"></a>\n",
    "## Why Python?\n",
    "\n",
    "Now that we have IPython running, let's review of some basic concepts about the structure of Python and how it compares to other languages:\n",
    "\n",
    "Python is an __interpreted language__ (often called \"scripting\" language) (like Ruby, PHP etc.) as opposed to compiled languages (C, C++, Java\n",
    "etc).\n",
    "\n",
    "* In other words, Python code is not translated into machine level instructions beforehand - it's interpreted on-the-fly while executing.\n",
    "* This often results in easier-to-write code but slower execution times.\n",
    "* But a lot of libraries that we use from within Python are written in highly optimized C as is Python itself. So, well-designed code that takes advantage of fast libraries can often run much faster than pure Python implementations."
   ]
  },
  {
   "cell_type": "markdown",
   "metadata": {},
   "source": [
    "Python is a __dynamically typed__ language as opposed to statically typed languages like C, C++, Java etc. \n",
    "\n",
    "* We don't have to declare variable types explicitly or reserve memory for all variables in advance.\n",
    "* Python can infer the type of a variable and change it as necessary depending on the value we assign - we don't have to explicitly declare a variable as int, float etc. i.e. Python is __implicitly typed__.\n",
    "\n",
    "For example, in the C language, if you wanted to store an integer in a variable, you'd have to declare the variable and its type explicitly. In the code snippet below, a is declared as an integer before it is used and cannot store any other data type:\n",
    "\n",
    "    int a;\n",
    "    a = 42;\n",
    "\n",
    "In Python, we not have to declare the variable type ahead of using it. The interpreter will deduce the data type from the variable. In fact, we can assign another type of data to the same variable later and Python will change the data-type internally. Note also the use of the `type()` function to return the current data type and the `print()` function to print to the terminal."
   ]
  },
  {
   "cell_type": "code",
   "execution_count": null,
   "metadata": {},
   "outputs": [],
   "source": [
    "a = 42\n",
    "print(type(a))\n",
    "\n",
    "a = 4.0\n",
    "print(type(a))\n",
    "\n",
    "a = \"Hello, World\"\n",
    "print(type(a))"
   ]
  },
  {
   "cell_type": "markdown",
   "metadata": {},
   "source": [
    "Python is __strongly typed__ - i.e. you can't mix unrelated data types.\n",
    "\n",
    "* In other words, while you can add an int to a float to get a float as the result, you can't add an int and a string like JavaScript would allow.\n",
    "\n",
    "For example, you can type the following bit of code which adds a number to a string into a JavaScript console and get an output.\n",
    "\n",
    "    > \"Hello\" + 123\n",
    "    > \"Hello123\"\n",
    "\n",
    "Python on the other hand will throw an error."
   ]
  },
  {
   "cell_type": "code",
   "execution_count": null,
   "metadata": {},
   "outputs": [],
   "source": [
    "# Adding a 'float' to an 'int' works because both are numeric\n",
    "print(4 + 2.5)\n",
    "\n",
    "# Adding a 'string' to a number fails, though\n",
    "print(\"Hello\" + 123)"
   ]
  },
  {
   "cell_type": "markdown",
   "metadata": {},
   "source": [
    "<a id=\"formatting\"></a>\n",
    "## Formatting Python Code\n",
    "\n",
    "* Notice in the above example that comments can be put in the code preceded by a `#` sign. The interpreter will ignore anything that occurs after `#` in a line.\n",
    "* Code blocks are designated by indentation in Python. Use tabs to indent code uniformly throughout. Some editors can be set to convert tabs into a given number of spaces - this is fine as well. Whichever convention you choose, use it consistently. Python does not use curly brackets, semi-colons etc like C, Java, JavaScript et al., so proper indentation is extremely important and can cause hard to detect bugs if not implemented correctly.\n",
    "\n",
    "While we'll look at the concept of a Python \"function\" later, `print` is a basic function that we'll use right away. NOTE: If you don't want the cursor to move to a new line after print, supply the parameter `end=\"\"`"
   ]
  },
  {
   "cell_type": "code",
   "execution_count": null,
   "metadata": {},
   "outputs": [],
   "source": [
    "print(\"Hello, world!\")\n",
    "print(42, end=\"\")\n",
    "print(\" is the meaning of life, the universe and everything.\")"
   ]
  },
  {
   "cell_type": "markdown",
   "metadata": {},
   "source": [
    "<a id=\"components\"></a>\n",
    "## Language components\n",
    "\n",
    "### Variables\n",
    "Since python is dynamically typed, variable type is often inferred. Most often, variables are assigned using the `=` operator. e.g. `a = 2`\n",
    "\n",
    "### Operators\n",
    "Most of the common operators function as you would expect. Below are some of the odd ones you might need to pay more attention to:\n",
    "\n",
    "    * == is the comparison operator. = is for assigning values to a variable\n",
    "    * != is the \"not equal to\" operator\n",
    "    * %, the modulo operator, returns the remainder of a division. (25 % 3 returns 1)\n",
    "    * // returns the result of the division without the remainder. (25 // 3 returns 8)\n",
    "    * x ** y raises x to the power of y.\n",
    "\n",
    "Make sure to look through the [Python documentation](https://docs.python.org/2/reference/expressions.html#operator-precedence) and familiarize yourself with operator precedence - the order in which the Python interpreter will execute them. For example multiplication and division take precedence over addition and subtraction. Use brackets to avoid confusion in long expressions.\n",
    "\n",
    "### Expressions\n",
    "\n",
    "A Python expression is anything that resolves to a value (numeric, boolean, string etc.) \n",
    "\n",
    "### Statements\n",
    "\n",
    "A Python statement is anything that does something with one or more expressions."
   ]
  },
  {
   "cell_type": "markdown",
   "metadata": {},
   "source": [
    "<a id=\"numdatatypes\"></a>\n",
    "## Numeric Data-Types\n",
    "\n",
    "Although, we are mainly interested in working with strings, we need to familiarize ourselves with some numeric Python data-types.\n",
    "\n",
    "* Numeric types - Python will mostly take care of conversion between these numeric data types internally.\n",
    "    * Boolean - True or False (evaluates to 1 and 0)\n",
    "    * Integers - 2 bytes\n",
    "    * Long integers - 4 bytes\n",
    "    * Floating point numbers (numbers with decimal points) - usually takes 64 bits, or 8 bytes in memory."
   ]
  },
  {
   "cell_type": "markdown",
   "metadata": {},
   "source": [
    "<a id=\"castingnum\"></a>\n",
    "## Casting Numeric Data Types\n",
    "\n",
    "Casting involves changing one data-type into another. In general, for numeric operations involving multiple numeric types, Python will cast up. In other words, it will return results in the broader type. So boolean values (which can be written as `True` or `False`) will be cast into integers, which in turn will be cast into floating point numbers when necessary.\n",
    "\n",
    "Make sure you understand how the following operations work and experiment with similar examples of your own:"
   ]
  },
  {
   "cell_type": "code",
   "execution_count": 1,
   "metadata": {},
   "outputs": [
    {
     "name": "stdout",
     "output_type": "stream",
     "text": [
      "True\n",
      "False\n",
      "1\n",
      "21\n",
      "20.0\n",
      "28\n",
      "28.0\n",
      "8.333333333333334\n",
      "8.333333333333334\n",
      "8.333333333333334\n"
     ]
    }
   ],
   "source": [
    "# The first two produce boolean outputs. The third casts them into integers before adding.\n",
    "print(True)\n",
    "print(False)\n",
    "print(True + False)\n",
    "\n",
    "# The first produces an 'int', the second a 'float'\n",
    "print(True + 20)\n",
    "print(False + 20.0)\n",
    "\n",
    "print(25 + 3)\n",
    "print(25.0 + 3) \n",
    "print(25 / 3)    # Notice that this casts the result UP to a float\n",
    "print(25 / 3.0)\n",
    "print(25.0 / 3)"
   ]
  },
  {
   "cell_type": "markdown",
   "metadata": {},
   "source": [
    "Casting can also be done explicitly if you want to switch between data-types. Compare the outputs of the following operations to the ones above:"
   ]
  },
  {
   "cell_type": "code",
   "execution_count": 2,
   "metadata": {},
   "outputs": [
    {
     "name": "stdout",
     "output_type": "stream",
     "text": [
      "1\n",
      "0.0\n",
      "1.0\n",
      "21.0\n",
      "20\n",
      "1\n",
      "True\n",
      "False\n",
      "28.0\n",
      "26\n",
      "8.333333333333334\n",
      "33.333333333333336\n",
      "True\n",
      "False\n"
     ]
    }
   ],
   "source": [
    "print(int(True))\n",
    "print(float(False))\n",
    "print(True + float(False))\n",
    "\n",
    "print(True + float(20))\n",
    "print(False + int(20.0))\n",
    "\n",
    "print(int(bool(25)))\n",
    "print(bool(0.0001))\n",
    "print(bool(0))\n",
    "\n",
    "print(25 + float(3))\n",
    "print(25 + bool(3))\n",
    "print(25 / float(3))\n",
    "print(float(100/3))\n",
    "print(bool(100-100.001))\n",
    "print(bool(100-100.00))"
   ]
  },
  {
   "cell_type": "markdown",
   "metadata": {},
   "source": [
    "<a id=\"conditionals\"></a>\n",
    "## Conditionals\n",
    "### Conditionals: if\n",
    "If-then-else statements are the basic way to control the logical flow of a program. The basic syntax is as follows:\n",
    "\n",
    "\t\tif [condition]:\n",
    "\t\t\t# execute this code block if \n",
    "\t\t\t# condition evaluates to True\n",
    "\t\telif [another condition]:\n",
    "\t\t\t# execute this code block if the \n",
    "\t\t\t# first condition is False and \n",
    "\t\t\t# the second condition is True\n",
    "\t\telif [yet another condition]:\n",
    "\t\t\t# execute this code block if the\n",
    "\t\t\t# previous conditions are False\n",
    "\t\t\t# and this condition is True\n",
    "\t\telse:\n",
    "\t\t\t# if none of the above\n",
    "\t\t\t# conditions are True\n",
    "\n",
    "* Only the first `if` is necessary. All the other tests are optional.\n",
    "* You can have as many `elif` (for else-if) tests as you want (or none, of course).\n",
    "* Only one `else` block as the default if none of the conditions are met (but you can leave out the `else` block entirely as well if you want to take no default action.)\n",
    "* As soon as _one_ condition is met, no further conditions are tested. So, only the code-block of the first true condition gets executed."
   ]
  },
  {
   "cell_type": "code",
   "execution_count": 4,
   "metadata": {},
   "outputs": [
    {
     "name": "stdout",
     "output_type": "stream",
     "text": [
      "A is 42\n",
      "A is not greater than 42\n",
      "A is equal to 42\n"
     ]
    }
   ],
   "source": [
    "a = 42\n",
    "if a==42:\n",
    "    print(\"A is 42\")\n",
    "    \n",
    "if a > 42:\n",
    "    print(\"A is greater than 42\")\n",
    "else:\n",
    "    print(\"A is not greater than 42\")\n",
    "    \n",
    "if a > 42:\n",
    "    print(\"A is greater than 42\")\n",
    "elif a < 42:\n",
    "    print(\"A is lesser than 42\")\n",
    "else:\n",
    "    print(\"A is equal to 42\")"
   ]
  },
  {
   "cell_type": "markdown",
   "metadata": {},
   "source": [
    "<a id=\"loops\"></a>\n",
    "## Loops:\n",
    "### Loops: `for`\n",
    "\n",
    "The basic form of the `for` loop is:\n",
    "\n",
    "\t\tfor [variable] in [list]:\n",
    "\t\t\t# execute this code block\n",
    "\n",
    "* Each element in the `[list]` is assigned to the `[variable]` in turn and supplied to the code block. \n",
    "* The list can be any list of objects, but if you simply want a list of numbers, you can generate one on the fly with the `range` function.\n",
    "\t* `range` can be called with 1, 2, or 3 values (called _arguments_). A few examples will make their uses clear:\n",
    "\t\t* `range(5)` returns `[0, 1, 2, 3, 4]`\n",
    "\t\t* `range(5, 8)` returns `[5, 6, 7]`\n",
    "\t\t* `range(5, 20, 3)` returns `[5, 8, 11, 14, 17]` \n",
    "\n",
    "Note that you don't necessarily have to use the `[variable]` in the code block, but it is available and reset at every iteration of the loop."
   ]
  },
  {
   "cell_type": "code",
   "execution_count": 6,
   "metadata": {},
   "outputs": [
    {
     "name": "stdout",
     "output_type": "stream",
     "text": [
      "0 1 2 3 4 \n",
      "100 150 200 250 300 350 400 450 500 550 600 650 700 750 800 850 900 950 1000 "
     ]
    },
    {
     "data": {
      "text/plain": [
       "range(0, 20)"
      ]
     },
     "execution_count": 6,
     "metadata": {},
     "output_type": "execute_result"
    }
   ],
   "source": [
    "for a in [0,1,2,3,4]:\n",
    "    print(a, end=' ')\n",
    "\n",
    "print()\n",
    "for a in range(100, 1001, 50):\n",
    "    print(a, end=' ')\n",
    "\n",
    "range(20)"
   ]
  },
  {
   "cell_type": "markdown",
   "metadata": {},
   "source": [
    "### Loops: `while` \n",
    "\n",
    "The basic format of the while loop is:\n",
    "\n",
    "\t\twhile [condition]:\n",
    "\t\t\t# execute code block\n",
    "\n",
    "As long as the `condition` evaluates to `True`, the code block will keep getting executed. Note that you are responsible for making sure that some value in the condition is updated in the code block so that it eventually evaluates to `False` and exits. Otherwise you will enter and \"infinite loop\" - a computational black hole so strong that it sucks in every variable in sight."
   ]
  },
  {
   "cell_type": "code",
   "execution_count": null,
   "metadata": {},
   "outputs": [],
   "source": [
    "q=0\n",
    "while q!=10:\n",
    "    print(q, end=' ')\n",
    "    q+=1"
   ]
  },
  {
   "cell_type": "markdown",
   "metadata": {},
   "source": [
    "### Interrupting Loops: `break` and `continue`\n",
    "\n",
    "It is good programming practice to design loops such that they end only when the main condition is met. i.e. when the `for` statement has parsed through every element in the `[list]` or when the `while` condition finally evaluates to `False`. However, there might be cases where it is necessary to interrupt the loop from within its code block.\n",
    "\n",
    "* The `break` statement exits the loop and jumps to whatever is outside the loop's code block.\n",
    "* The `continue` statement only exits the _current_ iteration of the loop. It will continue with the next value in the list is a `for` loop or go back to evaluating the `[condition]` in a `while` loop.\n",
    "\n",
    "In case you enter an infinite loop, you can save the universe by typing ^C (Control-C) to forcefully exit the program. "
   ]
  },
  {
   "cell_type": "code",
   "execution_count": 2,
   "metadata": {},
   "outputs": [
    {
     "name": "stdout",
     "output_type": "stream",
     "text": [
      "0 1 2 3 4 \n",
      "0 1 2 3 4 6 7 8 9 "
     ]
    }
   ],
   "source": [
    "for a in range(10):\n",
    "    if a == 5:\n",
    "        break\n",
    "    else:\n",
    "        print(a, end=' ')\n",
    "        \n",
    "print()\n",
    "for a in range(10):\n",
    "    if a == 5:\n",
    "        continue\n",
    "    print(a, end=' ')"
   ]
  },
  {
   "cell_type": "markdown",
   "metadata": {},
   "source": [
    "<a id=\"list\"></a>\n",
    "## List\n",
    "\n",
    "Lists consist of _ordered_ objects. Note that the different elements of a list do not need to be of the same dtatatype, in fact they can be other lists as well.\n",
    "\n",
    "* Lists can be _indexed_ (numbering begins from `0`): `list[index]`\n",
    "    * Note that negative values denote counting from the end of a list.\n",
    "* Lists can be _sliced_: `list[start:end:stride]`\n",
    "* The following functions can be used on lists:\n",
    "\t* `len()`\n",
    "\t* `min()`\n",
    "\t* `max()`\n",
    "* the `del` operator can be used on lists: \n",
    "\t* e.g. `del list[index]` or even `del list[slice]`"
   ]
  },
  {
   "cell_type": "code",
   "execution_count": 1,
   "metadata": {},
   "outputs": [
    {
     "name": "stdout",
     "output_type": "stream",
     "text": [
      "[0, 1, 2, 3, 4, 5, 6, 7, 8, 9]\n",
      "0\n",
      "9\n",
      "[4, 5, 6]\n",
      "[0, 2, 4, 6]\n",
      "[2, 3, 4, 5, 6, 7]\n",
      "[0, 1, 3, 4, 5, 6, 7, 8, 9]\n",
      "3.14\n",
      "[1, 2, 2.5]\n",
      "2.5\n"
     ]
    }
   ],
   "source": [
    "l = list(range(10))\n",
    "print(l)\n",
    "print(l[0])\n",
    "print(l[-1])\n",
    "print(l[4:7])\n",
    "print(l[0:8:2])\n",
    "print(l[2:-2])\n",
    "del l[2]\n",
    "print(l)\n",
    "\n",
    "l = [42, 3.14, \"Hello\", [1, 2, 2.5]]\n",
    "print(l[1])\n",
    "print(l[3])\n",
    "print(l[3][2])"
   ]
  },
  {
   "cell_type": "markdown",
   "metadata": {},
   "source": [
    "Note that like all python datatypes, lists are also objects. So, every list object has several built in _\"attributes\"_ that can be invoked by the `.` operator.\n",
    "\t\n",
    "* l.append(): Adds an element\n",
    "* l.extend(): Adds a list\n",
    "* l.index(x, [start, stop]): returns the index of the first occurence of x in the list or in the oprional range.\n",
    "* l.insert(i, x) : inserts element x at position i\n",
    "* l.pop([i]): returns the i-th element and removes it from the list. Removed last element by default.\n",
    "* l.remove(x): Searches for x and removes it from the list\n",
    "* l.reverse(): Reverses items in list\n",
    "* l.sort(): sorts list"
   ]
  },
  {
   "cell_type": "markdown",
   "metadata": {},
   "source": [
    "<a id=\"tuple\"></a>\n",
    "## Tuple\n",
    "\n",
    "Tuples are also ordered objects that are very similar to lists but with the important difference that they _cannot be modified_."
   ]
  },
  {
   "cell_type": "code",
   "execution_count": 1,
   "metadata": {},
   "outputs": [
    {
     "name": "stdout",
     "output_type": "stream",
     "text": [
      "[1, 10, 3]\n",
      "(1, 2, 3.12)\n"
     ]
    },
    {
     "ename": "TypeError",
     "evalue": "'tuple' object does not support item assignment",
     "output_type": "error",
     "traceback": [
      "\u001b[0;31m---------------------------------------------------------------------------\u001b[0m",
      "\u001b[0;31mTypeError\u001b[0m                                 Traceback (most recent call last)",
      "\u001b[0;32m<ipython-input-1-120f9bad8820>\u001b[0m in \u001b[0;36m<module>\u001b[0;34m\u001b[0m\n\u001b[1;32m      4\u001b[0m \u001b[0mprint\u001b[0m\u001b[0;34m(\u001b[0m\u001b[0ml\u001b[0m\u001b[0;34m)\u001b[0m\u001b[0;34m\u001b[0m\u001b[0;34m\u001b[0m\u001b[0m\n\u001b[1;32m      5\u001b[0m \u001b[0mprint\u001b[0m\u001b[0;34m(\u001b[0m\u001b[0mt\u001b[0m\u001b[0;34m)\u001b[0m\u001b[0;34m\u001b[0m\u001b[0;34m\u001b[0m\u001b[0m\n\u001b[0;32m----> 6\u001b[0;31m \u001b[0mt\u001b[0m\u001b[0;34m[\u001b[0m\u001b[0;36m1\u001b[0m\u001b[0;34m]\u001b[0m \u001b[0;34m=\u001b[0m \u001b[0;36m10\u001b[0m  \u001b[0;31m# Throws an error\u001b[0m\u001b[0;34m\u001b[0m\u001b[0;34m\u001b[0m\u001b[0m\n\u001b[0m",
      "\u001b[0;31mTypeError\u001b[0m: 'tuple' object does not support item assignment"
     ]
    }
   ],
   "source": [
    "l = [1,2,3]\n",
    "t = (1,2,3.12)\n",
    "l[1] = 10\n",
    "print(l)\n",
    "print(t)\n",
    "t[1] = 10  # Throws an error"
   ]
  },
  {
   "cell_type": "markdown",
   "metadata": {},
   "source": [
    "As we might expect, the list attribute functions that modify the list don't exist for tuples. Tuples can be modified by overwriting the original, but can't be modified in place.\n",
    "\n",
    "__Note__: A tuple with a single element can be indicated with a comma within the round brackets as below."
   ]
  },
  {
   "cell_type": "code",
   "execution_count": 2,
   "metadata": {},
   "outputs": [
    {
     "name": "stdout",
     "output_type": "stream",
     "text": [
      "(1, 2, 3.12, 43)\n"
     ]
    },
    {
     "ename": "AttributeError",
     "evalue": "'tuple' object has no attribute 'append'",
     "output_type": "error",
     "traceback": [
      "\u001b[0;31m---------------------------------------------------------------------------\u001b[0m",
      "\u001b[0;31mAttributeError\u001b[0m                            Traceback (most recent call last)",
      "\u001b[0;32m<ipython-input-2-c6597680d388>\u001b[0m in \u001b[0;36m<module>\u001b[0;34m\u001b[0m\n\u001b[1;32m      1\u001b[0m \u001b[0mt\u001b[0m \u001b[0;34m=\u001b[0m \u001b[0mt\u001b[0m \u001b[0;34m+\u001b[0m \u001b[0;34m(\u001b[0m\u001b[0;36m43\u001b[0m\u001b[0;34m,\u001b[0m \u001b[0;34m)\u001b[0m\u001b[0;34m\u001b[0m\u001b[0;34m\u001b[0m\u001b[0m\n\u001b[1;32m      2\u001b[0m \u001b[0mprint\u001b[0m\u001b[0;34m(\u001b[0m\u001b[0mt\u001b[0m\u001b[0;34m)\u001b[0m\u001b[0;34m\u001b[0m\u001b[0;34m\u001b[0m\u001b[0m\n\u001b[0;32m----> 3\u001b[0;31m \u001b[0mt\u001b[0m\u001b[0;34m.\u001b[0m\u001b[0mappend\u001b[0m\u001b[0;34m(\u001b[0m\u001b[0;36m43\u001b[0m\u001b[0;34m)\u001b[0m   \u001b[0;31m# Doesn't work\u001b[0m\u001b[0;34m\u001b[0m\u001b[0;34m\u001b[0m\u001b[0m\n\u001b[0m",
      "\u001b[0;31mAttributeError\u001b[0m: 'tuple' object has no attribute 'append'"
     ]
    }
   ],
   "source": [
    "t = t + (43, )\n",
    "print(t)\n",
    "t.append(43)   # Doesn't work"
   ]
  },
  {
   "cell_type": "markdown",
   "metadata": {},
   "source": [
    "Use tuples for immutable data and lists for mutable data. Another key difference is that lists, being mutable, cannot be used as dictionary (see below) keys, while tuples can."
   ]
  },
  {
   "cell_type": "code",
   "execution_count": 15,
   "metadata": {},
   "outputs": [
    {
     "name": "stdout",
     "output_type": "stream",
     "text": [
      "[1, 3, 4, 5]\n"
     ]
    },
    {
     "data": {
      "text/plain": [
       "[1, 3, 4, 5]"
      ]
     },
     "execution_count": 15,
     "metadata": {},
     "output_type": "execute_result"
    }
   ],
   "source": [
    "a = [3,4,1,5]\n",
    "a.sort() # Note sort modifies in place - doesn't return a value\n",
    "print(a)\n",
    "\n",
    "b = (3,4,1,5)\n",
    "#b.sort()\n",
    "sorted(b) # Returns a list"
   ]
  },
  {
   "cell_type": "markdown",
   "metadata": {},
   "source": [
    "<a id=\"string\"></a>\n",
    "## String\n",
    "\n",
    "Strings are sequences of characters that behave like tuples. _Indexing_ and _slicing_ work on strings. Strings are _immutable_ in Python - i.e. they can't be changed without creating a new string object. Strings, like tuples, can be joined with the `+` operator."
   ]
  },
  {
   "cell_type": "code",
   "execution_count": 16,
   "metadata": {},
   "outputs": [
    {
     "name": "stdout",
     "output_type": "stream",
     "text": [
      "!\n",
      "Hell\n",
      "Helloworld\n",
      "!dlroW ,olleH\n"
     ]
    },
    {
     "ename": "TypeError",
     "evalue": "'str' object does not support item assignment",
     "output_type": "error",
     "traceback": [
      "\u001b[0;31m---------------------------------------------------------------------------\u001b[0m",
      "\u001b[0;31mTypeError\u001b[0m                                 Traceback (most recent call last)",
      "\u001b[0;32m<ipython-input-16-dd942e82703b>\u001b[0m in \u001b[0;36m<module>\u001b[0;34m\u001b[0m\n\u001b[1;32m      4\u001b[0m \u001b[0mprint\u001b[0m\u001b[0;34m(\u001b[0m\u001b[0ms\u001b[0m\u001b[0;34m[\u001b[0m\u001b[0;34m:\u001b[0m\u001b[0;36m5\u001b[0m\u001b[0;34m]\u001b[0m \u001b[0;34m+\u001b[0m \u001b[0;34m\"world\"\u001b[0m\u001b[0;34m)\u001b[0m\u001b[0;34m\u001b[0m\u001b[0;34m\u001b[0m\u001b[0m\n\u001b[1;32m      5\u001b[0m \u001b[0mprint\u001b[0m\u001b[0;34m(\u001b[0m\u001b[0ms\u001b[0m\u001b[0;34m[\u001b[0m\u001b[0;34m:\u001b[0m\u001b[0;34m:\u001b[0m\u001b[0;34m-\u001b[0m\u001b[0;36m1\u001b[0m\u001b[0;34m]\u001b[0m\u001b[0;34m)\u001b[0m\u001b[0;34m\u001b[0m\u001b[0;34m\u001b[0m\u001b[0m\n\u001b[0;32m----> 6\u001b[0;31m \u001b[0ms\u001b[0m\u001b[0;34m[\u001b[0m\u001b[0;36m1\u001b[0m\u001b[0;34m]\u001b[0m \u001b[0;34m=\u001b[0m \u001b[0;34m\"Q\"\u001b[0m \u001b[0;31m# Throws error\u001b[0m\u001b[0;34m\u001b[0m\u001b[0;34m\u001b[0m\u001b[0m\n\u001b[0m",
      "\u001b[0;31mTypeError\u001b[0m: 'str' object does not support item assignment"
     ]
    }
   ],
   "source": [
    "s = \"Hello, World!\"\n",
    "print(s[-1])\n",
    "print(s[:4])\n",
    "print(s[:5] + \"world\")\n",
    "print(s[::-1])\n",
    "s[1] = \"Q\" # Throws error"
   ]
  },
  {
   "cell_type": "code",
   "execution_count": 1,
   "metadata": {},
   "outputs": [
    {
     "name": "stdout",
     "output_type": "stream",
     "text": [
      "e\n",
      "Hell\n",
      "HelloWorld\n"
     ]
    }
   ],
   "source": [
    "s = \"Hello World!\"\n",
    "print(s[1])  # prints 'e'\n",
    "\n",
    "# List indexing and slicing work on strings.\n",
    "print(s[:4]) # prints 'Hell'\n",
    "    \n",
    "# Strings can be joined with the + operator.\n",
    "print(\"Hello\" + \"World\")"
   ]
  },
  {
   "cell_type": "markdown",
   "metadata": {},
   "source": [
    "We have seen that strings are sequences of characters that behave like tuples. i.e. they cannot be modified, and they can be indexed and sliced just like tuples. As we saw in the case of the list class, strings have several built in functions. Below are a few examples. A more detailed list of these functions can be [found in the Python documentation](https://docs.python.org/2/library/stdtypes.html#string-methods) and you should familiarize yourself with them."
   ]
  },
  {
   "cell_type": "code",
   "execution_count": 2,
   "metadata": {},
   "outputs": [
    {
     "name": "stdout",
     "output_type": "stream",
     "text": [
      "['Shall', 'I', 'compare', 'thee', 'to', 'a', \"summer's\", 'day?']\n",
      "['Shall I compar', ' th', '', ' to a summ', \"r's day?\"]\n",
      "SHALL I COMPARE THEE TO A SUMMER'S DAY?\n",
      "shall i compare thee to a summer's day?\n",
      "Hello?\n",
      "Hello?\n"
     ]
    }
   ],
   "source": [
    "s = \"Shall I compare thee to a summer's day?\"\n",
    "print(s.split())\n",
    "print(s.split(\"e\"))\n",
    "print(s.upper())\n",
    "print(s.lower())\n",
    "\n",
    "# A literal string works just like any other string object. Instead of writing \n",
    "s = \"   Hello?   \"\n",
    "print(s.strip())\n",
    "# ... you can also write.\n",
    "print(\"  Hello?   \".strip())"
   ]
  },
  {
   "cell_type": "markdown",
   "metadata": {},
   "source": [
    "### Formatting strings\n",
    "\n",
    "Python has a wide array of string formatting functions. Here we will look briefly at the `format()` method of the string class. More information can be found [here](https://pyformat.info/)\n",
    "\n",
    "We can format numbers and spacing - d denotes int, f float, s strings. Formatting and alignment is denoted with the {:<} syntax. See examples below."
   ]
  },
  {
   "cell_type": "code",
   "execution_count": 7,
   "metadata": {},
   "outputs": [
    {
     "name": "stdout",
     "output_type": "stream",
     "text": [
      "This is a string formatting example\n",
      "Hello 1,2,3.0\n",
      "00000123--3.14-- 3.14\n",
      "       Hello        ...............World\n"
     ]
    }
   ],
   "source": [
    "# Insert variables into a string\n",
    "print('This is a {} formatting {}'.format('string', 'example'))\n",
    "# Insert numbers\n",
    "print('Hello {},{},{}'.format(1,2,3.0))\n",
    "# Alignment and padding of numbers\n",
    "print('{:>08d}--{:>4.2f}--{:> 2.2f}'.format(123, 3.14, 3.14))\n",
    "# Alignment and padding with strings\n",
    "print('{:^20s}{:.>20s}'.format('Hello', 'World'))\n"
   ]
  },
  {
   "cell_type": "markdown",
   "metadata": {},
   "source": [
    "<a id=\"list_comprehension\"></a>\n",
    "## List Comprehension\n",
    "\n",
    "List comprehensions are a way of transforming one list into another, possibly with some condition based selection. They can replace loops that go over a list, perform some transformation on each element and append the results to a new list."
   ]
  },
  {
   "cell_type": "code",
   "execution_count": 17,
   "metadata": {},
   "outputs": [
    {
     "name": "stdout",
     "output_type": "stream",
     "text": [
      "[0, 1, 4, 9, 16, 25, 36, 49, 64, 81]\n"
     ]
    }
   ],
   "source": [
    "# Using a for loop to compute squares of all numbers in a list\n",
    "l = list(range(10))\n",
    "s = []\n",
    "for n in l:\n",
    "    s.append(n**2)\n",
    "print(s)"
   ]
  },
  {
   "cell_type": "code",
   "execution_count": 18,
   "metadata": {},
   "outputs": [
    {
     "name": "stdout",
     "output_type": "stream",
     "text": [
      "[0, 1, 4, 9, 16, 25, 36, 49, 64, 81]\n"
     ]
    }
   ],
   "source": [
    "# The above can be written with a list comprehension\n",
    "l = list(range(10))\n",
    "s = [n**2 for n in l]\n",
    "print(s)"
   ]
  },
  {
   "cell_type": "code",
   "execution_count": 19,
   "metadata": {},
   "outputs": [
    {
     "name": "stdout",
     "output_type": "stream",
     "text": [
      "[0, 4, 16, 36, 64]\n"
     ]
    }
   ],
   "source": [
    "# We may also apply a condition - to get squares of just the even numbers\n",
    "l = list(range(10))\n",
    "s = [n**2 for n in l if n%2==0]\n",
    "print(s)"
   ]
  },
  {
   "cell_type": "markdown",
   "metadata": {},
   "source": [
    "## Dictionaries\n",
    "\n",
    "Dictionaries are _mapping_ or _hash_ types. They are _indexed_ but _unordered_ collections of objects.\n",
    "\n",
    "* Dictionaries are created in the form `d = {'key1': value1, 'key2': value2}` etc.\n",
    "* You can access or assign elements by indexing with the key: \n",
    "\t* e.g. `d['key1']` will return `value1`\n",
    "* Keys can be deleted with `del` (same as in lists above)\n",
    "* The `d.has_key(key)` attribute tests if a key is a member of the dictionary.\n",
    "* The `d.keys()` attribute returns all the keys in the dictionary as a list.\n",
    "* len() will give the number of keys in a dictionary\n",
    "\n",
    "Lists and dictionaries are two of the most important and frequently encountered data-types, especially in text-processing. Please make sure that you are comfortable with both of them - adding or changing elements, extracting values, sorting etc. Also, the distinction between lists and dictionaries is important - \"ordered\" vs. \"unordered\" - this implies very different ways of retrieving elements - you must have a key (not an index) to refer to elements in a dictionary.\n",
    "\n",
    "Finally, _both_ lists and dictionaries can contain __any combination of data-types and objects, including other lists and dictionaries__. \n",
    "\n"
   ]
  },
  {
   "cell_type": "code",
   "execution_count": 3,
   "metadata": {},
   "outputs": [
    {
     "name": "stdout",
     "output_type": "stream",
     "text": [
      "1\n",
      "[1, 2, 3]\n",
      "3\n"
     ]
    }
   ],
   "source": [
    "d = {'q': 1, 'w':3.14, 'e':\"Hello\", (1,2):[1,2,3]}\n",
    "print(d['q'])\n",
    "print(d[(1,2)])\n",
    "print(d[(1,2)][2])"
   ]
  },
  {
   "cell_type": "markdown",
   "metadata": {},
   "source": [
    "Note the following ways of iterating over elements in a dictionary. The order of the items is not guaranteed and should not be assumed to be repeatable."
   ]
  },
  {
   "cell_type": "code",
   "execution_count": 6,
   "metadata": {},
   "outputs": [
    {
     "name": "stdout",
     "output_type": "stream",
     "text": [
      "q 1\n",
      "w 2\n",
      "e 3\n",
      "q 1\n",
      "w 2\n",
      "e 3\n"
     ]
    }
   ],
   "source": [
    "d = {'q':1, 'w':2, 'e':3}\n",
    "for k in d:\n",
    "    print(k, d[k])\n",
    "    \n",
    "for k, v in d.items():\n",
    "    print(k, v)"
   ]
  },
  {
   "cell_type": "markdown",
   "metadata": {},
   "source": [
    "##### On dictionary order in Python\n",
    "\n",
    "Having stated before that Dictionaries are _unordered_ in Python, it is time to contradict myself. But we need to go into a bit of detail. Dictionaries are _insertion ordered_ starting in Python 3.7 (3.6 for the CPython implementation). This means that elements will be stored in the order that they are created -- allowing us to sort dictionaries using dictionary comprehensions(see below). However, the `OrderedDict` class and that remains the preferred way if true ordering of elements is required. We will look at that class later along with `DefaultDict`"
   ]
  },
  {
   "cell_type": "markdown",
   "metadata": {},
   "source": [
    "#### Sorting dictionaries by key or value\n",
    "\n"
   ]
  },
  {
   "cell_type": "code",
   "execution_count": 6,
   "metadata": {},
   "outputs": [
    {
     "name": "stdout",
     "output_type": "stream",
     "text": [
      "['e', 'q', 'w']\n",
      "{'w': 1, 'q': 2, 'e': 3}\n"
     ]
    },
    {
     "data": {
      "text/plain": [
       "['q', 'w', 'e']"
      ]
     },
     "execution_count": 6,
     "metadata": {},
     "output_type": "execute_result"
    }
   ],
   "source": [
    "# We can sort by keys using a dictionary comprehension \n",
    "## -- this works because dictionaries in Python 3.7+ retain insertion order.\n",
    "d = {'q':2, 'w': 1, 'e': 3}\n",
    "print(sorted(d))\n",
    "print({k:d[k] for k in sorted(d, reverse=True)})\n",
    "list(d.keys())"
   ]
  },
  {
   "cell_type": "code",
   "execution_count": 26,
   "metadata": {},
   "outputs": [
    {
     "name": "stdout",
     "output_type": "stream",
     "text": [
      "3\n",
      "['w', 'q', 'e']\n",
      "{'w': 1, 'q': 2, 'e': 3}\n"
     ]
    }
   ],
   "source": [
    "print(d.__getitem__('e'))\n",
    "print(sorted(d, key=d.__getitem__))\n",
    "print({k:d[k] for k in sorted(d, key=d.__getitem__)})"
   ]
  },
  {
   "cell_type": "code",
   "execution_count": 23,
   "metadata": {},
   "outputs": [
    {
     "name": "stdout",
     "output_type": "stream",
     "text": [
      "dict_items([('q', 2), ('w', 1), ('e', 3)])\n",
      "[('e', 3), ('q', 2), ('w', 1)]\n",
      "[('w', 1), ('q', 2), ('e', 3)]\n",
      "{'e': 3, 'q': 2, 'w': 1}\n",
      "{'w': 1, 'q': 2, 'e': 3}\n"
     ]
    }
   ],
   "source": [
    "print(d.items())\n",
    "print(sorted(d.items(), key=lambda x: x[0]))\n",
    "print(sorted(d.items(), key=lambda x: x[1]))\n",
    "print({k:v for k, v in sorted(d.items(), key=lambda x: x[0])})\n",
    "print({k:v for k, v in sorted(d.items(), key=lambda x: x[1])})"
   ]
  },
  {
   "cell_type": "markdown",
   "metadata": {},
   "source": [
    "<a id=\"functions\"></a>\n",
    "## Functions\n",
    "\n",
    "Functions help us break down programs into more modular and manageable units. They take a set of predefined arguments. "
   ]
  },
  {
   "cell_type": "code",
   "execution_count": 12,
   "metadata": {},
   "outputs": [
    {
     "name": "stdout",
     "output_type": "stream",
     "text": [
      "50\n",
      "90\n"
     ]
    }
   ],
   "source": [
    "def add(a, b):\n",
    "    print(a)\n",
    "    return a+b\n",
    "\n",
    "q = 40\n",
    "w = 50\n",
    "print(add(w, q))"
   ]
  },
  {
   "cell_type": "markdown",
   "metadata": {},
   "source": [
    "You can define the default value of certain arguments. If a default value exists and the argument can be ommitted:"
   ]
  },
  {
   "cell_type": "code",
   "execution_count": 13,
   "metadata": {},
   "outputs": [
    {
     "name": "stdout",
     "output_type": "stream",
     "text": [
      "10.0\n",
      "5.0\n"
     ]
    }
   ],
   "source": [
    "def divide(a, b = 2):\n",
    "    return a / b\n",
    "\n",
    "print(divide(20))    # Prints 10, as default value of b is used\n",
    "print(divide(20, 4)) # Prints 5"
   ]
  },
  {
   "cell_type": "markdown",
   "metadata": {},
   "source": [
    "##### Passing by value or reference\n",
    "\n",
    "Primitive datatypes are passed to functions by value, while sequence or mapping datatypes are passed by reference. i.e. If a numeric variable is passed as an argument to a function and is modified within it, the variable's value outside the function is not modified. However, for a list the value outside the function is modified as well. \n",
    "\n",
    "__Note:__ This is generally bad programming practice and you should avoid changing lists inside functions unless you have a very good reason to do it."
   ]
  },
  {
   "cell_type": "code",
   "execution_count": 15,
   "metadata": {},
   "outputs": [
    {
     "name": "stdout",
     "output_type": "stream",
     "text": [
      "10\n",
      "100\n",
      "10\n"
     ]
    }
   ],
   "source": [
    "a = 10\n",
    "\n",
    "def test(x):\n",
    "    x = 100\n",
    "    return x\n",
    "\n",
    "print(a)\n",
    "print(test(a))\n",
    "print(a)"
   ]
  },
  {
   "cell_type": "code",
   "execution_count": 10,
   "metadata": {},
   "outputs": [
    {
     "name": "stdout",
     "output_type": "stream",
     "text": [
      "[1, 2, 3]\n",
      "[1, 100, 3]\n",
      "[1, 100, 3]\n"
     ]
    }
   ],
   "source": [
    "l = [1,2,3]\n",
    "\n",
    "def test(x):\n",
    "    x[1] = 100\n",
    "    return x\n",
    "\n",
    "print(l)\n",
    "print(test(l))\n",
    "print(l)"
   ]
  },
  {
   "cell_type": "code",
   "execution_count": 11,
   "metadata": {},
   "outputs": [
    {
     "name": "stdout",
     "output_type": "stream",
     "text": [
      "Inside test: 20\n",
      "20\n",
      "40\n"
     ]
    }
   ],
   "source": [
    "a = 40\n",
    "def test(a):\n",
    "    print(\"Inside test: \" + str(a))         # This will print 20, not 40.\n",
    "    return a\n",
    "\n",
    "print(test(20))\n",
    "print(a)"
   ]
  },
  {
   "cell_type": "markdown",
   "metadata": {},
   "source": [
    "To exit a function without returning a value simply use the return keyword by itself.\n",
    "\n",
    "Multiple values can be returned in a tuple. You can say, for example `return a, b` and receive the values in two variables."
   ]
  },
  {
   "cell_type": "code",
   "execution_count": 1,
   "metadata": {},
   "outputs": [
    {
     "name": "stdout",
     "output_type": "stream",
     "text": [
      "[4, 6]\n",
      "12 14\n"
     ]
    }
   ],
   "source": [
    "def test(x):\n",
    "    return [x+2, x+4]\n",
    "\n",
    "print(test(2))\n",
    "x, y = test(10)\n",
    "print(x, y)"
   ]
  },
  {
   "cell_type": "markdown",
   "metadata": {},
   "source": [
    "<a id=\"files\"></a>\n",
    "## Files\n",
    "\n",
    "A file object can be created using the `open()` statement.\n",
    "\n",
    "Files can be read one all together with `read()` or one line at a time with `readlines()`"
   ]
  },
  {
   "cell_type": "code",
   "execution_count": 4,
   "metadata": {},
   "outputs": [
    {
     "name": "stdout",
     "output_type": "stream",
     "text": [
      "\t\n",
      " \tSo shaken as we are, so wan with care,\n",
      "\n",
      "\tFind we a time for frighted peace to pant,\n",
      "\n",
      "\tAnd breath\n"
     ]
    }
   ],
   "source": [
    "f = open(\"/Users/anupam/Desktop/Corpora/author_collections/shakespeare/plaintext/1_king_henry_iv.txt\", \"r\")\n",
    "print(f.read()[:100])\n",
    "#print(f.readlines()[:5])\n"
   ]
  },
  {
   "cell_type": "markdown",
   "metadata": {},
   "source": [
    "<a id=\"modules\"></a>\n",
    "## Importing Modules and Packages\n",
    "\n",
    "Large programs are often subdivided into _packages_ that are made up of individual _modules_. Modules and packages also contain Python's built in libraries and let us use the immense power of these ready-made functions. \n",
    "\n",
    "* Syntax examples: \n",
    "\n",
    "\t\timport module\n",
    "\t\tfrom module import definition\n",
    "\t\tfrom module import * \n",
    "\n",
    "* Packages are collections of modules. Syntax:\n",
    "        \n",
    "        # loads the fill submodule\n",
    "\t\timport Graphics.Primitive.fill \n",
    "        # This is a better way to do it. \n",
    "        # You can refer to the fill submodule without the prefix\n",
    "\t\tfrom Graphics.Primitive.fill import floodfill\n",
    "\t\t\n",
    "* In the Python documentation: explore the [string module](http://docs.python.org/library/string.html), its built in packages and functions.\n",
    "\t* Modules often have a lot of technical functions that can be confusing, but getting used to reading documentation to find the functions we need is a key part of using Python's built in libraries effectively."
   ]
  },
  {
   "cell_type": "markdown",
   "metadata": {},
   "source": [
    "`glob` is a library that we'll use to read multiple files from a directory using wildcards. Note that the library has a function also named `glob()` that expands wildcard directory listings into a list of strings."
   ]
  },
  {
   "cell_type": "code",
   "execution_count": 3,
   "metadata": {},
   "outputs": [
    {
     "name": "stdout",
     "output_type": "stream",
     "text": [
      "['/Users/anupam/Desktop/Corpora/author_collections/shakespeare/plaintext/twelfth_night.txt', '/Users/anupam/Desktop/Corpora/author_collections/shakespeare/plaintext/julius_caesar.txt', '/Users/anupam/Desktop/Corpora/author_collections/shakespeare/plaintext/as_you_like_it.txt', '/Users/anupam/Desktop/Corpora/author_collections/shakespeare/plaintext/tempest.txt', '/Users/anupam/Desktop/Corpora/author_collections/shakespeare/plaintext/king_lear.txt', '/Users/anupam/Desktop/Corpora/author_collections/shakespeare/plaintext/cymbeline.txt', '/Users/anupam/Desktop/Corpora/author_collections/shakespeare/plaintext/coriolanus.txt', '/Users/anupam/Desktop/Corpora/author_collections/shakespeare/plaintext/1_king_henry_vi.txt', '/Users/anupam/Desktop/Corpora/author_collections/shakespeare/plaintext/two_gentlemen_of_verona.txt', '/Users/anupam/Desktop/Corpora/author_collections/shakespeare/plaintext/romeo_and_juliet.txt', '/Users/anupam/Desktop/Corpora/author_collections/shakespeare/plaintext/merchant_of_venice.txt', \"/Users/anupam/Desktop/Corpora/author_collections/shakespeare/plaintext/winter's_tale.txt\", '/Users/anupam/Desktop/Corpora/author_collections/shakespeare/plaintext/2_king_henry_vi.txt', '/Users/anupam/Desktop/Corpora/author_collections/shakespeare/plaintext/merry_wives_of_windsor.txt', '/Users/anupam/Desktop/Corpora/author_collections/shakespeare/plaintext/othello.txt', '/Users/anupam/Desktop/Corpora/author_collections/shakespeare/plaintext/3_king_henry_vi.txt', '/Users/anupam/Desktop/Corpora/author_collections/shakespeare/plaintext/much_ado_about_nothing.txt', '/Users/anupam/Desktop/Corpora/author_collections/shakespeare/plaintext/king_richard_ii.txt', '/Users/anupam/Desktop/Corpora/author_collections/shakespeare/plaintext/taming_of_the_shrew.txt', \"/Users/anupam/Desktop/Corpora/author_collections/shakespeare/plaintext/a_midsummer_night's_dream.txt\", '/Users/anupam/Desktop/Corpora/author_collections/shakespeare/plaintext/comedy_of_errors.txt', '/Users/anupam/Desktop/Corpora/author_collections/shakespeare/plaintext/king_richard_iii.txt', '/Users/anupam/Desktop/Corpora/author_collections/shakespeare/plaintext/timon_of_athens.txt', '/Users/anupam/Desktop/Corpora/author_collections/shakespeare/plaintext/1_king_henry_iv.txt', '/Users/anupam/Desktop/Corpora/author_collections/shakespeare/plaintext/titus_andronicus.txt', \"/Users/anupam/Desktop/Corpora/author_collections/shakespeare/plaintext/all's_well_that_ends_well.txt\", '/Users/anupam/Desktop/Corpora/author_collections/shakespeare/plaintext/king_henry_viii.txt', '/Users/anupam/Desktop/Corpora/author_collections/shakespeare/plaintext/2_king_henry_iv.txt', '/Users/anupam/Desktop/Corpora/author_collections/shakespeare/plaintext/king_henry_v.txt', \"/Users/anupam/Desktop/Corpora/author_collections/shakespeare/plaintext/love's_labours_lost.txt\", '/Users/anupam/Desktop/Corpora/author_collections/shakespeare/plaintext/king_john.txt', '/Users/anupam/Desktop/Corpora/author_collections/shakespeare/plaintext/antony_and_cleopatra.txt', '/Users/anupam/Desktop/Corpora/author_collections/shakespeare/plaintext/macbeth.txt', '/Users/anupam/Desktop/Corpora/author_collections/shakespeare/plaintext/troilus_and_cressida.txt', '/Users/anupam/Desktop/Corpora/author_collections/shakespeare/plaintext/measure_for_measure.txt', '/Users/anupam/Desktop/Corpora/author_collections/shakespeare/plaintext/hamlet.txt']\n"
     ]
    }
   ],
   "source": [
    "import glob\n",
    "\n",
    "path = '/Users/anupam/Desktop/Corpora/author_collections/shakespeare/plaintext/*.txt'\n",
    "filenames = glob.glob(path)\n",
    "print(filenames)"
   ]
  },
  {
   "cell_type": "markdown",
   "metadata": {},
   "source": [
    "### Basic Plotting in Python\n",
    "\n",
    "We're going to use the (Matplotlib)[https://matplotlib.org/] library for plotting in Python. Other options you might want to look into are Seaborn and Altair."
   ]
  },
  {
   "cell_type": "code",
   "execution_count": 11,
   "metadata": {},
   "outputs": [
    {
     "data": {
      "image/png": "[encoded data removed]",
      "text/plain": [
       "<Figure size 576x360 with 1 Axes>"
      ]
     },
     "metadata": {
      "needs_background": "light"
     },
     "output_type": "display_data"
    },
    {
     "data": {
      "text/plain": [
       "[<matplotlib.lines.Line2D at 0x7fc22474c650>]"
      ]
     },
     "execution_count": 11,
     "metadata": {},
     "output_type": "execute_result"
    },
    {
     "data": {
      "image/png": "[encoded data removed]",
      "text/plain": [
       "<Figure size 432x288 with 1 Axes>"
      ]
     },
     "metadata": {
      "needs_background": "light"
     },
     "output_type": "display_data"
    }
   ],
   "source": [
    "import matplotlib.pyplot as plt\n",
    "\n",
    "plt.figure(figsize=(8,5))\n",
    "\n",
    "plt.plot([1,2,4,2])\n",
    "plt.show()\n",
    "\n",
    "plt.plot([10,20,0], [2,3,2])"
   ]
  },
  {
   "cell_type": "code",
   "execution_count": 9,
   "metadata": {},
   "outputs": [
    {
     "data": {
      "image/png": "[encoded data removed]",
      "text/plain": [
       "<Figure size 432x288 with 1 Axes>"
      ]
     },
     "metadata": {
      "needs_background": "light"
     },
     "output_type": "display_data"
    }
   ],
   "source": [
    "x=[1,2,3]\n",
    "y=[2,3,1]\n",
    "labels = ['a','b','c']\n",
    "plt.scatter(x, y)\n",
    "for i, l in enumerate(labels):\n",
    "    plt.text(x[i], y[i], l)"
   ]
  },
  {
   "cell_type": "code",
   "execution_count": 14,
   "metadata": {},
   "outputs": [
    {
     "name": "stdout",
     "output_type": "stream",
     "text": [
      "(0, 2)\n",
      "(1, 3)\n",
      "(2, 4)\n"
     ]
    }
   ],
   "source": [
    "for a in enumerate([2,3,4]):\n",
    "    print(a)"
   ]
  },
  {
   "cell_type": "code",
   "execution_count": 9,
   "metadata": {},
   "outputs": [
    {
     "data": {
      "text/plain": [
       "True"
      ]
     },
     "execution_count": 9,
     "metadata": {},
     "output_type": "execute_result"
    }
   ],
   "source": [
    "set(('q')) == {'q'}"
   ]
  },
  {
   "cell_type": "code",
   "execution_count": null,
   "metadata": {},
   "outputs": [],
   "source": []
  }
 ],
 "metadata": {
  "kernelspec": {
   "display_name": "Python 3",
   "language": "python",
   "name": "python3"
  },
  "language_info": {
   "codemirror_mode": {
    "name": "ipython",
    "version": 3
   },
   "file_extension": ".py",
   "mimetype": "text/x-python",
   "name": "python",
   "nbconvert_exporter": "python",
   "pygments_lexer": "ipython3",
   "version": "3.8.5"
  }
 },
 "nbformat": 4,
 "nbformat_minor": 2
}
